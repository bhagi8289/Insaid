{
  "nbformat": 4,
  "nbformat_minor": 0,
  "metadata": {
    "colab": {
      "name": "openaigpt2.ipynb",
      "version": "0.3.2",
      "provenance": [],
      "collapsed_sections": [],
      "include_colab_link": true
    },
    "kernelspec": {
      "name": "python3",
      "display_name": "Python 3"
    }
  },
  "cells": [
    {
      "cell_type": "markdown",
      "metadata": {
        "id": "view-in-github",
        "colab_type": "text"
      },
      "source": [
        "<a href=\"https://colab.research.google.com/github/bhagi8289/Insaid/blob/master/openaigpt2.ipynb\" target=\"_parent\"><img src=\"https://colab.research.google.com/assets/colab-badge.svg\" alt=\"Open In Colab\"/></a>"
      ]
    },
    {
      "metadata": {
        "id": "LE2rk5zcpQyr",
        "colab_type": "code",
        "colab": {}
      },
      "cell_type": "code",
      "source": [
        "!git clone https://github.com/openai/gpt-2\n",
        "import os\n",
        "os.chdir('gpt-2')\n",
        "!sh download_model.sh 117M\n",
        "!pip3 install -r requirements.txt\n",
        "\n",
        "!python3 src/interactive_conditional_samples.py --nsamples=3 --length=175 --top_k 40 --temperature 0.7\n",
        "# Model prompt >>> In a shocking finding, scientist discovered a herd of unicorns living in a remote, previously unexplored valley, in the Andes Mountains. Even more surprising to the researchers was the fact that the unicorns spoke perfect English."
      ],
      "execution_count": 0,
      "outputs": []
    }
  ]
}